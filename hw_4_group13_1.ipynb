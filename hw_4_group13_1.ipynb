{
 "cells": [
  {
   "cell_type": "code",
   "execution_count": 140,
   "metadata": {},
   "outputs": [],
   "source": [
    "import numpy as np\n",
    "import tensorflow as tf\n",
    "import matplotlib.pyplot as plt\n",
    "import time\n",
    "from IPython.display import Image\n",
    "from IPython.core.display import HTML "
   ]
  },
  {
   "cell_type": "code",
   "execution_count": 141,
   "metadata": {},
   "outputs": [],
   "source": [
    "#metaparametrs\n",
    "epochs = 5 # more epochs lead to increased accuracy\n",
    "batch_size = 200 #CNN learns better with this butch size\n",
    "validation_batch_size = 500\n",
    "learning_rate = 0.0001\n",
    "import scipy.io"
   ]
  },
  {
   "cell_type": "code",
   "execution_count": 142,
   "metadata": {},
   "outputs": [],
   "source": [
    "def load_svhn(path):\n",
    "    \n",
    "    def normalize(array):\n",
    "        mean = np.mean(array)\n",
    "        st = np.std(array)\n",
    "        array = (array-mean)/st\n",
    "        return array\n",
    "    \n",
    "    matfile = scipy.io.loadmat(path)\n",
    "    images = matfile['X']\n",
    "    #images = normalize(images)\n",
    "    images = np.expand_dims(images,0)\n",
    "    images = np.swapaxes(images, 0,4)\n",
    "    images = np.squeeze(images)\n",
    "    labels = matfile['y']\n",
    "    labels = np.squeeze(labels)\n",
    "    \n",
    "    validation_images = images[:1000,:,:,:]\n",
    "    training_images = images[1000:5000,:,:,:]\n",
    "    validation_labels = labels[:1000]\n",
    "    training_labels = labels[1000:5000]\n",
    "    \n",
    "    return training_images, training_labels, validation_images, validation_labels\n",
    "\n",
    "\n",
    "training_data, training_labels, validation_data, validation_labels = load_svhn('../train_32x32.mat')"
   ]
  },
  {
   "cell_type": "code",
   "execution_count": 143,
   "metadata": {},
   "outputs": [
    {
     "data": {
      "image/png": "[encoded data removed]",
      "text/plain": [
       "<Figure size 720x720 with 10 Axes>"
      ]
     },
     "metadata": {
      "needs_background": "light"
     },
     "output_type": "display_data"
    }
   ],
   "source": [
    "#We want to investigate the normilized data. To see actual names of category we set title to \"label_to_word\"\n",
    "# We can see that images differ from original ones. \n",
    "fig, ax = plt.subplots(1,10,figsize=(10,10))\n",
    "\n",
    "for i in range(10):\n",
    "    ax[i].imshow(training_data[i])\n",
    "    ax[i].axis('off')\n",
    "    ax[i].set_title(training_labels[i]) # we take i_th training label and use it as a key of the dictionary"
   ]
  },
  {
   "cell_type": "code",
   "execution_count": 144,
   "metadata": {},
   "outputs": [],
   "source": [
    "tf.reset_default_graph()\n",
    "# Getting data\n",
    "training_dataset = tf.data.Dataset.from_tensor_slices((training_data, training_labels))\n",
    "validation_dataset = tf.data.Dataset.from_tensor_slices((validation_data, validation_labels))\n",
    "\n",
    "# This allows us to directly define batchsize we want to use.\n",
    "training_dataset = training_dataset.batch(batch_size)\n",
    "validation_dataset = validation_dataset.batch(validation_batch_size)\n",
    "\n",
    "# Shuffle the training data in each epoch.\n",
    "training_dataset = training_dataset.shuffle(buffer_size=4, reshuffle_each_iteration=True)\n",
    "# Shuffle the training data in each epoch.\n",
    "#training_dataset = training_dataset.shuffle(buffer_size=4, reshuffle_each_iteration=True)"
   ]
  },
  {
   "cell_type": "code",
   "execution_count": 145,
   "metadata": {},
   "outputs": [],
   "source": [
    "# Next we need an iterator which will allow us to iterate throught the dataset.\n",
    "iterator = tf.data.Iterator.from_structure(training_dataset.output_types, training_dataset.output_shapes)\n",
    "\n",
    "next_batch = iterator.get_next()\n",
    "\n",
    "# And we prepare initializer\n",
    "training_init_op = iterator.make_initializer(training_dataset)\n",
    "validation_init_op = iterator.make_initializer(validation_dataset)"
   ]
  },
  {
   "cell_type": "code",
   "execution_count": 146,
   "metadata": {},
   "outputs": [],
   "source": [
    "# Get input for Network\n",
    "\n",
    "input_data  = next_batch[0]\n",
    "input_data = tf.cast(input_data, tf.float32)\n",
    "\n",
    "labels = next_batch[1]\n",
    "labels = tf.cast(labels, tf.int64)\n",
    "labels_one_hot = tf.one_hot(labels,10)"
   ]
  },
  {
   "cell_type": "code",
   "execution_count": 147,
   "metadata": {},
   "outputs": [],
   "source": [
    "# We want to use dropout technique which allows to redce overfitting problem. \n",
    "#We will dumpen 50% of neurons during forward step, so not all of them will learn on each batch. BUT! We do not want to\n",
    "#use dropout during validation. So we create a placeholder, which we will feed during training\n",
    "\n",
    "keep_prob = tf.placeholder(tf.float32)\n"
   ]
  },
  {
   "cell_type": "code",
   "execution_count": 148,
   "metadata": {},
   "outputs": [
    {
     "data": {
      "text/plain": [
       "'\\nwith tf.variable_scope(\"fully_connected\"):\\n    weights = tf.Variable(tf.truncated_normal([2*8*128, 512],stddev=2e-06))\\n    bias = tf.Variable(tf.constant(0.0, shape = [512]))\\n\\n    pre_act = tf.add(tf.matmul(flat_pool, weights), bias)\\n    activation = tf.nn.tanh(pre_act)\\n    #activation = tf.nn.dropout(activation, keep_prob = keep_prob)\\n    \\n    tf.summary.histogram(\"fully_connected_weights\", weights)\\n    tf.summary.histogram(\"fully_connected1_biases\", bias)\\n    \\nwith tf.variable_scope(\"read_out\"):\\n    weights = tf.Variable(tf.truncated_normal([512, 10],stddev=2e-06))\\n    bias = tf.Variable(tf.constant(0.0, shape = [10]))\\n    logits = tf.add(tf.matmul(activation, weights), bias)\\n    \\n    output = tf.nn.softmax(logits)\\n    \\n    tf.summary.histogram(\"read_out\", weights)\\n    tf.summary.histogram(\"read_out_biases\", bias)\\n\\n'"
      ]
     },
     "execution_count": 148,
     "metadata": {},
     "output_type": "execute_result"
    }
   ],
   "source": [
    "\n",
    "with tf.variable_scope(\"convolution_1\"):\n",
    "    kernel_size = 5\n",
    "    stride      = 1\n",
    "    n_kernels   = 16\n",
    "    channels    = 3\n",
    "\n",
    "    kernels = tf.Variable(tf.truncated_normal([kernel_size, kernel_size,channels, n_kernels], stddev = 0.1))\n",
    "    biases  = tf.Variable(tf.zeros([n_kernels]))\n",
    "    convolution = tf.nn.conv2d(input_data, kernels, strides = [1, stride, stride, 1], padding = \"SAME\")\n",
    "    feature_maps = tf.tanh(convolution + biases)\n",
    "    \n",
    "    tf.summary.histogram(\"convolution_1_weights\", kernels)\n",
    "    tf.summary.histogram(\"convolution_1_biases\", biases)\n",
    "\n",
    "with tf.variable_scope(\"pooling_1\"):\n",
    "    kernel_size = 2\n",
    "    stride      = 2\n",
    "    \n",
    "    pooling = tf.nn.max_pool(feature_maps,ksize = [1, kernel_size, kernel_size, 1], strides = [1, stride, stride, 1], padding = \"SAME\")\n",
    "    \n",
    "\n",
    "with tf.variable_scope(\"convolution_2\"):\n",
    "    kernel_size = 3\n",
    "    stride      = 1\n",
    "    n_kernels   = 32\n",
    "    channels    = 16\n",
    "    \n",
    "    kernels = tf.Variable(tf.truncated_normal([kernel_size, kernel_size,channels, n_kernels], stddev = 0.1))\n",
    "    biases  = tf.Variable(tf.zeros([n_kernels]))\n",
    "    convolution = tf.nn.conv2d(pooling, kernels, strides = [1, stride, stride, 1], padding = \"SAME\")\n",
    "    feature_maps = tf.tanh(convolution + biases)\n",
    "    \n",
    "    tf.summary.histogram(\"convolution_2_weights\", kernels)\n",
    "    tf.summary.histogram(\"convolution_2_biases\", biases)\n",
    "\n",
    "\n",
    "with tf.variable_scope(\"pooling_2\"):\n",
    "    kernel_size = 2\n",
    "    stride      = 2\n",
    "    \n",
    "    pooling = tf.nn.max_pool(feature_maps,ksize = [1, kernel_size, kernel_size, 1], strides = [1, stride, stride, 1], padding = \"SAME\")\n",
    "    flat_pool = tf.contrib.layers.flatten(pooling)\n",
    "\n",
    "    \n",
    "with tf.variable_scope(\"fully_connected\"):\n",
    "    weights = tf.Variable(tf.truncated_normal([2*8*128, 512],stddev=2e-06))\n",
    "    bias = tf.Variable(tf.constant(0.0, shape = [512]))\n",
    "\n",
    "    pre_act = tf.add(tf.matmul(flat_pool, weights), bias)\n",
    "    activation = tf.nn.tanh(pre_act)\n",
    "    #activation = tf.nn.dropout(activation, keep_prob = keep_prob)\n",
    "    \n",
    "    tf.summary.histogram(\"fully_connected_weights\", weights)\n",
    "    tf.summary.histogram(\"fully_connected1_biases\", bias)\n",
    "    \n",
    "        \n",
    "with tf.variable_scope(\"read_out\"):\n",
    "    weights = tf.get_variable(\"weights\", shape=[512, 10], initializer=tf.contrib.layers.xavier_initializer())\n",
    "    bias = tf.Variable(tf.constant(0.0, shape = [10]))\n",
    "    logits = tf.add(tf.matmul(activation, weights), bias)\n",
    "    \n",
    "    output = tf.nn.softmax(logits)\n",
    "    \n",
    "    tf.summary.histogram(\"read_out\", weights)\n",
    "    tf.summary.histogram(\"read_out_biases\", bias)\n"
   ]
  },
  {
   "cell_type": "code",
   "execution_count": 149,
   "metadata": {},
   "outputs": [
    {
     "data": {
      "text/plain": [
       "<tf.Tensor 'accuracy:0' shape=() dtype=string>"
      ]
     },
     "execution_count": 149,
     "metadata": {},
     "output_type": "execute_result"
    }
   ],
   "source": [
    "# Loss.\n",
    "cross_entropy = tf.nn.softmax_cross_entropy_with_logits_v2(logits = logits, labels = labels_one_hot)\n",
    "loss = tf.reduce_mean(cross_entropy)\n",
    "tf.summary.scalar('loss', loss)\n",
    "\n",
    "# Accuracy.\n",
    "accuracy = tf.equal(tf.argmax(output, 1), labels)\n",
    "accuracy = tf.reduce_mean(tf.cast(accuracy, tf.float32))\n",
    "tf.summary.scalar('accuracy', accuracy)"
   ]
  },
  {
   "cell_type": "code",
   "execution_count": 150,
   "metadata": {},
   "outputs": [],
   "source": [
    "#Than we define an Optimizer\n",
    "optimizer = tf.train.AdamOptimizer(learning_rate=learning_rate)\n",
    "\n",
    "# We tell it to minimize loss for each training step\n",
    "training_step = optimizer.minimize(loss)"
   ]
  },
  {
   "cell_type": "code",
   "execution_count": 151,
   "metadata": {},
   "outputs": [],
   "source": [
    "# Merge all summaries and write in two folders\n",
    "merged_summaries = tf.summary.merge_all()\n",
    "train_writer = tf.summary.FileWriter('./summaries/train/')\n",
    "validation_writer = tf.summary.FileWriter('./summaries/validation/', flush_secs = 2)"
   ]
  },
  {
   "cell_type": "code",
   "execution_count": 152,
   "metadata": {},
   "outputs": [],
   "source": [
    "start_t = time.time() # we want to monitor how much time does it take a model to train"
   ]
  },
  {
   "cell_type": "code",
   "execution_count": 153,
   "metadata": {},
   "outputs": [
    {
     "name": "stdout",
     "output_type": "stream",
     "text": [
      "Epoch: 1 / 5\n",
      "0.5078184604644775\n",
      "Epoch: 2 / 5\n",
      "7.435807466506958\n",
      "Epoch: 3 / 5\n",
      "13.557551145553589\n",
      "Epoch: 4 / 5\n",
      "19.677229166030884\n",
      "Epoch: 5 / 5\n",
      "26.10855484008789\n",
      "Finished\n"
     ]
    }
   ],
   "source": [
    "# Let's train our model.\n",
    "with tf.Session() as sess:\n",
    "    saver = tf.train.Saver()\n",
    "    # First initialize the variables.\n",
    "    sess.run(tf.global_variables_initializer())\n",
    "    # We need a step counter.\n",
    "    global_step = 0\n",
    "    \n",
    "    # Now we set up a loop that will run until we finished all epochs.\n",
    "    for epoch in range(epochs):\n",
    "        print(\"Epoch:\", epoch+1, \"/\",epochs)\n",
    "        print(time.time() - start_t)    \n",
    "        # TRAINING\n",
    "        sess.run(training_init_op)\n",
    "         \n",
    "        # In each epoch we want to go through all batches of the training data. \n",
    "        while True:\n",
    "            try:\n",
    "                # Instead of the value we read out the summary and we feed our keep_prob placeholder with 0.5\n",
    "                # so 50% of neurons during training are dumped. But we do not \n",
    "                _, summary  = sess.run((training_step, merged_summaries), feed_dict={keep_prob: 1.0})\n",
    "                \n",
    "                \n",
    "                # We write the summary into our folder.\n",
    "                train_writer.add_summary(summary, global_step)\n",
    "                #print(3, time.time())\n",
    "                # And update the step counter.\n",
    "                global_step += 1\n",
    "            \n",
    "            # Breakout of the loop if we looked at all batches\n",
    "            except tf.errors.OutOfRangeError:\n",
    "                break\n",
    "                \n",
    "        # VALIDATION\n",
    "        epoch+=1\n",
    "        sess.run(validation_init_op)\n",
    "        summary = sess.run((merged_summaries), feed_dict ={keep_prob: 1.0}) #keep_prob = 1, so all neurons active\n",
    "        validation_writer.add_summary(summary, global_step)\n",
    "        \n",
    "        loss_value = sess.run((loss), feed_dict ={keep_prob: 1.0})\n",
    "        \n",
    "print(\"Finished\")\n",
    "\n",
    "train_writer.close()\n",
    "validation_writer.close()\n",
    "\n",
    "sess.close()   "
   ]
  },
  {
   "cell_type": "code",
   "execution_count": null,
   "metadata": {},
   "outputs": [],
   "source": []
  }
 ],
 "metadata": {
  "kernelspec": {
   "display_name": "Python 3",
   "language": "python",
   "name": "python3"
  },
  "language_info": {
   "codemirror_mode": {
    "name": "ipython",
    "version": 3
   },
   "file_extension": ".py",
   "mimetype": "text/x-python",
   "name": "python",
   "nbconvert_exporter": "python",
   "pygments_lexer": "ipython3",
   "version": "3.6.6"
  }
 },
 "nbformat": 4,
 "nbformat_minor": 2
}
